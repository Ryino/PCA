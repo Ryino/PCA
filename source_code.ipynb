{
 "cells": [
  {
   "cell_type": "markdown",
   "metadata": {},
   "source": [
    "Libraries Installed"
   ]
  },
  {
   "cell_type": "code",
   "execution_count": null,
   "metadata": {},
   "outputs": [],
   "source": [
    "!pip install rasterio\n",
    "!pip install matplotlib\n"
   ]
  },
  {
   "cell_type": "code",
   "execution_count": null,
   "metadata": {},
   "outputs": [],
   "source": [
    "\n",
    "!pip install scikit-learn\n"
   ]
  },
  {
   "cell_type": "markdown",
   "metadata": {},
   "source": [
    "raterio is used so we dont need to convert our files to GEOtiff. https://gis.stackexchange.com/questions/397638/opening-sentinel-2-data-with-python"
   ]
  },
  {
   "cell_type": "code",
   "execution_count": null,
   "metadata": {},
   "outputs": [],
   "source": [
    "\n",
    "import rasterio\n",
    "\n",
    "from rasterio.plot import show\n",
    "import matplotlib.pyplot as plt\n",
    "import numpy as np\n",
    "from sklearn.metrics import mean_squared_error\n"
   ]
  },
  {
   "cell_type": "markdown",
   "metadata": {},
   "source": [
    "Image name is provided and opened"
   ]
  },
  {
   "cell_type": "code",
   "execution_count": null,
   "metadata": {},
   "outputs": [],
   "source": [
    "image_path = \"D:/c++/123-ES-304/\"#enter image path\n",
    "image_list=[\n",
    "    \"T41RRH_20231112T061059_B02_60m.jp2\",\n",
    "    \"T41RRH_20231112T061059_B03_60m.jp2\",\n",
    "    \"T41RRH_20231112T061059_B04_60m.jp2\",\n",
    "    \"T41RRH_20231112T061059_B05_60m.jp2\",\n",
    "    \"T41RRH_20231112T061059_B06_60m.jp2\",\n",
    "    \"T41RRH_20231112T061059_B07_60m.jp2\",\n",
    "    \"T41RRH_20231112T061059_B8A_60m.jp2\",\n",
    "    \"T41RRH_20231112T061059_B09_60m.jp2\",\n",
    "    \"T41RRH_20231112T061059_B11_60m.jp2\",\n",
    "    \"T41RRH_20231112T061059_B12_60m.jp2\"\n",
    "]\n",
    "#in image_list enter the bands from the .SAFE file downloaded from https://dataspace.copernicus.eu"
   ]
  },
  {
   "cell_type": "code",
   "execution_count": null,
   "metadata": {},
   "outputs": [],
   "source": [
    "image_stack = []\n",
    "for image_filename in image_list:\n",
    "    image_to_open = image_path + image_filename\n",
    "    with rasterio.open(image_to_open) as src:\n",
    "        img = src.read(1)  \n",
    "        image_stack.append(img)\n",
    "\n",
    "stacked_data = np.stack(image_stack, axis=2)\n",
    "print(stacked_data.shape)"
   ]
  },
  {
   "cell_type": "markdown",
   "metadata": {},
   "source": [
    "Visualize different bands"
   ]
  },
  {
   "cell_type": "code",
   "execution_count": null,
   "metadata": {},
   "outputs": [],
   "source": [
    "#show(stacked_data[:, :, 0], cmap='gray', title='First Band of Stacked Data')\n",
    "\n",
    "num_bands = stacked_data.shape[-1]\n",
    "plt.figure(figsize=(15, 10))\n",
    "\n",
    "for i in range(num_bands):\n",
    "    plt.subplot(3, 4, i + 1)\n",
    "    plt.imshow(stacked_data[:, :, i])\n",
    "    plt.title(f'Band {i + 1}')\n",
    "    plt.axis('on')  \n"
   ]
  },
  {
   "cell_type": "code",
   "execution_count": null,
   "metadata": {},
   "outputs": [],
   "source": [
    "width, height = src.width, src.height\n",
    "print(width)\n",
    "print (height)\n",
    "\n",
    "# Read the data for the specified window\n",
    "cropped_image = stacked_data[:1830, :1830, :]\n",
    "\n",
    "# Visualize the cropped image\n",
    "plt.figure(figsize=(6, 6))\n",
    "show(cropped_image[:, :, 0], title='Cropped Data')\n",
    "\n",
    "\n"
   ]
  },
  {
   "cell_type": "code",
   "execution_count": null,
   "metadata": {},
   "outputs": [],
   "source": [
    "# Concatenate bands\n",
    "concatenated_image = np.concatenate((stacked_data[:, :, 0], stacked_data[:, :, 1], stacked_data[:, :, 3]), axis=1)\n",
    "plt.figure(figsize=(6, 6))\n",
    "show(concatenated_image)"
   ]
  },
  {
   "cell_type": "markdown",
   "metadata": {},
   "source": [
    "PCA APPLYING :"
   ]
  },
  {
   "cell_type": "code",
   "execution_count": null,
   "metadata": {},
   "outputs": [],
   "source": [
    "band_means = np.mean(stacked_data, axis=(0, 1))\n",
    "band_medians = np.median(stacked_data, axis=(0, 1))\n",
    "band_std_devs = np.std(stacked_data, axis=(0, 1))\n",
    "\n",
    "# Print the calculated statistics\n",
    "# for i, band_file in enumerate(image_list):\n",
    "#     print(f\"Band {i + 1}:\")\n",
    "#     print(f\"  Mean: {band_means[i]}\")\n",
    "#     print(f\"  Median: {band_medians[i]}\")\n",
    "#     print(f\"  Standard Deviation: {band_std_devs[i]}\")\n",
    "#     print()"
   ]
  },
  {
   "cell_type": "code",
   "execution_count": null,
   "metadata": {},
   "outputs": [],
   "source": [
    "flattened_data = stacked_data.reshape((-1, stacked_data.shape[-1]))\n",
    "#This reshaping operation is often done to convert an image with multiple bands and spatial dimensions into a 2D array where each row corresponds to a pixel and each column corresponds to a band. This 2d array is needed for the PCA"
   ]
  },
  {
   "cell_type": "code",
   "execution_count": null,
   "metadata": {},
   "outputs": [],
   "source": [
    "mean_values = np.mean(flattened_data, axis=0)\n",
    "\n",
    "# Center the data by subtracting the mean\n",
    "centered_data = flattened_data - mean_values"
   ]
  },
  {
   "cell_type": "markdown",
   "metadata": {},
   "source": [
    "https://www.youtube.com/watch?v=xS0zsQGiUjc"
   ]
  },
  {
   "cell_type": "code",
   "execution_count": null,
   "metadata": {},
   "outputs": [],
   "source": [
    "covariance_matrix = np.cov(centered_data, rowvar=False)\n",
    "size = covariance_matrix.size\n",
    "\n",
    "#np.cov finds out the covariance of the 2d array \n",
    "# each column represents a variable\n",
    "\n"
   ]
  },
  {
   "cell_type": "code",
   "execution_count": null,
   "metadata": {},
   "outputs": [],
   "source": [
    "# Calculate eigenvalues and eigenvectors\n",
    "eigenvalues, eigenvectors = np.linalg.eig(covariance_matrix)\n"
   ]
  },
  {
   "cell_type": "code",
   "execution_count": null,
   "metadata": {},
   "outputs": [],
   "source": [
    "# Sort eigenvectors by eigenvalues\n",
    "sorted_indices = np.argsort(eigenvalues)[::-1]#descending\n",
    "sorted_eigenvectors = eigenvectors[:, sorted_indices]\n"
   ]
  },
  {
   "cell_type": "code",
   "execution_count": null,
   "metadata": {},
   "outputs": [],
   "source": [
    "sorted_eigenvectors.size"
   ]
  },
  {
   "cell_type": "code",
   "execution_count": null,
   "metadata": {},
   "outputs": [],
   "source": [
    "# Choose the top k eigenvectors \n",
    "k = 6\n",
    "selected_eigenvectors = sorted_eigenvectors[:, :k]\n"
   ]
  },
  {
   "cell_type": "code",
   "execution_count": null,
   "metadata": {},
   "outputs": [],
   "source": [
    "# Project the data onto the selected eigenvectors\n",
    "reduced_data = np.dot(centered_data, selected_eigenvectors)\n",
    "\n",
    "# Restore the data by multiplying with the selected eigenvectors and adding the mean\n",
    "restored_data = np.dot(reduced_data, selected_eigenvectors.T) + mean_values\n",
    "\n",
    "# Reshape the restored data to the original shape\n",
    "restored_data = restored_data.reshape(stacked_data.shape)\n",
    "\n",
    "# Visualize the original and restored data with equal spacing\n",
    "plt.figure(figsize=(12, 6))\n",
    "\n",
    "# Original Data\n",
    "plt.subplot(1, 2, 1)\n",
    "plt.imshow(stacked_data[:, :, 0], aspect='equal')\n",
    "plt.title('Original Data')\n",
    "plt.axis('off')\n",
    "\n",
    "# Restored Data\n",
    "plt.subplot(1, 2, 2)\n",
    "plt.imshow(restored_data[:, :, 0],  aspect='equal')\n",
    "plt.title(f'Restored Data after PCA (k={k})')\n",
    "plt.axis('off')"
   ]
  },
  {
   "cell_type": "markdown",
   "metadata": {},
   "source": [
    "Error Analysis "
   ]
  },
  {
   "cell_type": "markdown",
   "metadata": {},
   "source": [
    "value of k is a good compromise between model complexity and accuracy.\n"
   ]
  },
  {
   "cell_type": "code",
   "execution_count": null,
   "metadata": {},
   "outputs": [],
   "source": [
    "\n",
    "\n",
    "# Function to reconstruct data from reduced dimensions\n",
    "def reconstruct_data(reduced_data, selected_eigenvectors):\n",
    "    return np.dot(reduced_data, selected_eigenvectors.T)\n",
    "\n",
    "# Perform PCA and calculate MSE for different values of k\n",
    "max_k = min(stacked_data.shape[-1], 10)  # Adjust the maximum value of k as needed\n",
    "mse_values = []\n",
    "\n",
    "for k in range(1, max_k + 1):\n",
    "    # Choose the top k eigenvectors\n",
    "    selected_eigenvectors = sorted_eigenvectors[:, :k]\n",
    "\n",
    "    # Project the data onto the selected eigenvectors\n",
    "    reduced_data = np.dot(centered_data, selected_eigenvectors)\n",
    "\n",
    "    # Reconstruct the data\n",
    "    reconstructed_data = reconstruct_data(reduced_data, selected_eigenvectors)\n",
    "\n",
    "    try:\n",
    "        # Calculate MSE and store the result\n",
    "        mse = mean_squared_error(flattened_data, reconstructed_data)\n",
    "        mse_values.append(mse)\n",
    "    except ValueError as e:\n",
    "        print(f\"Error for k={k}: {e}\")\n",
    "\n",
    "# Visualize the MSE values for different values of k\n",
    "plt.figure(figsize=(8, 6))\n",
    "plt.plot(range(1, max_k + 1), mse_values, marker='o')\n",
    "plt.title('Error analysis')\n",
    "plt.xlabel('Number of Principal Components (k)')\n",
    "plt.ylabel('Mean Squared Error (MSE)')\n",
    "plt.grid(True)\n",
    "plt.show()\n",
    "\n",
    "# Find the optimal value of k based on the MSE\n",
    "optimal_k = np.argmin(mse_values) + 1\n",
    "print(f\"Optimal number of Principal Components (k): {optimal_k}\")"
   ]
  }
 ],
 "metadata": {
  "kernelspec": {
   "display_name": "Python 3",
   "language": "python",
   "name": "python3"
  },
  "language_info": {
   "codemirror_mode": {
    "name": "ipython",
    "version": 3
   },
   "file_extension": ".py",
   "mimetype": "text/x-python",
   "name": "python",
   "nbconvert_exporter": "python",
   "pygments_lexer": "ipython3",
   "version": "3.12.0"
  }
 },
 "nbformat": 4,
 "nbformat_minor": 2
}
